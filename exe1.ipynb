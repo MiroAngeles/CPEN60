{
  "nbformat": 4,
  "nbformat_minor": 0,
  "metadata": {
    "colab": {
      "provenance": [],
      "authorship_tag": "ABX9TyMZMLG2j6bHiCs9hffQDEjM",
      "include_colab_link": true
    },
    "kernelspec": {
      "name": "python3",
      "display_name": "Python 3"
    },
    "language_info": {
      "name": "python"
    }
  },
  "cells": [
    {
      "cell_type": "markdown",
      "metadata": {
        "id": "view-in-github",
        "colab_type": "text"
      },
      "source": [
        "<a href=\"https://colab.research.google.com/github/MiroAngeles/CPEN60/blob/main/exe1.ipynb\" target=\"_parent\"><img src=\"https://colab.research.google.com/assets/colab-badge.svg\" alt=\"Open In Colab\"/></a>"
      ]
    },
    {
      "cell_type": "code",
      "execution_count": null,
      "metadata": {
        "id": "yvankcradFh_"
      },
      "outputs": [],
      "source": [
        "#1\n",
        "from sklearn.model_selection import GridSearchCV\n",
        "param_grid = [\n",
        "    {'kernel': ['linear'], 'C': [10., 30., 100., 300., 1000., 3000., 10000., 30000.0]},\n",
        "    {'kernel': ['rbf'], 'C': [1.0, 3.0, 10., 30., 100., 300., 1000.0],\n",
        "     'gamma': [0.01, 0.03, 0.1, 0.3, 1.0, 3.0]},\n",
        "]\n",
        "svm_reg = SVR()\n",
        "grid_search = GridSearchCV(svm_reg, param_grid, cv=5, scoring = 'neg_mean_squared_error', verbose=2, n_jobs=4)\n",
        "grid_search.fit(housing_prepared, housing_labels)\n",
        "\n",
        "negative_mse= grid_search.best_score_\n",
        "rmse = np.sqrt(-negative_mse)\n",
        "rmse\n",
        "grid_search.best_params_"
      ]
    },
    {
      "cell_type": "code",
      "source": [
        "#2\n",
        "from sklearn.model_selection import RandomizedSearchCV\n",
        "from scipy.stats import expon, reciprocal\n",
        "\n",
        "param_distribs = {\n",
        "    'kernel': ['linear', 'rbf'],\n",
        "    'C': reciprocal (20, 200000),\n",
        "    'gamma': expon(scale=1.0),\n",
        "}\n",
        "svm_reg = SVR()\n",
        "rnd_search = RandomizedSearchCV(svm_reg, param_distributions=param_distribs,\n",
        "                                n_iter=50, cv=5, scoring='neg_mean_squared_error',\n",
        "                                verbose=2, n_jobs=4, random_state=42)\n",
        "rnd_search.fit(housing_prepared, housing labels)\n",
        "\n",
        "negative_mse= grid_search.best_score_\n",
        "rmse = np.sqrt(-negative_mse)\n",
        "rmse\n",
        "grid_search.best_params_"
      ],
      "metadata": {
        "id": "plqHzcQ4fLFS"
      },
      "execution_count": null,
      "outputs": []
    },
    {
      "cell_type": "code",
      "source": [
        "#3\n",
        "from sklearn.base import BaseEstimator, TransformerMixin\n",
        "def indices_of_top_k(arr, k):\n",
        "  return np.sort(np.argpartition(np.array(arr), -k)[-k:])\n",
        "  class TopFeatureSelector(BaseEstimator, TransformerMixin):\n",
        "    def __init__(self, feature_importances, k):\n",
        "      self.feature_importances = feature_importances\n",
        "      self.k = k\n",
        "      def fit(self, X, y=None):\n",
        "        self.feature_indices_ = indices_of_top_k(self.feature_importances, self.k)\n",
        "        return self\n",
        "        def transform (self, X):\n",
        "          return X[:, self.feature_indices_]\n",
        "\n",
        "k = 5\n",
        "top_k_feature_indices = indices_of_top_k(feature_importances, k)\n",
        "top_k_feature_indices\n",
        "np.array(attributes)[top_k_feature_indices]\n",
        "sorted(zip(feature_importances, attributes), reverse=True)[:k]"
      ],
      "metadata": {
        "id": "PPK9sXlZgfNy"
      },
      "execution_count": null,
      "outputs": []
    },
    {
      "cell_type": "code",
      "source": [
        "#4\n",
        "prepare_select_and_predict_pipeline = Pipeline([\n",
        "    ('preparation', full_pipeline),\n",
        "    ('feature_selection', TopFeatureSelector(feature_importances, k)),\n",
        "    ('svm_reg', SVR(**rnd_search.best_params_))\n",
        "])\n",
        "prepare_select_and_predict_pipeline.fit(housing, housing_labels)\n",
        "\n",
        "some_data = housing.iloc[:4]\n",
        "some_labels = housing_labels.iloc[:4]\n",
        "print(\"Predictions:\\t\", prepare_select_and_predict_pipeline.predict(some_data))\n",
        "print(\"Labels:\\t\\t\", list(some_labels))"
      ],
      "metadata": {
        "id": "mJuAqB90mDFq"
      },
      "execution_count": null,
      "outputs": []
    },
    {
      "cell_type": "code",
      "source": [
        "#5\n",
        "param_grid = [{\n",
        "    'preparation_num_imputer_strategy': ['mean', 'median', 'most_frequent'],\n",
        "    'feature_selection_k': list(range(1, len(feature_importances) +1))\n",
        "}]\n",
        "grid_search_prep = GridSearchCV(prepare_select_and_predict_pipeline, param_grid, cv=5,\n",
        "                                scoring='neg_mean_squared_error', verbose=2, n_jobs=4)\n",
        "grid_search_prep.fit(housing, housing_labels)\n",
        "grid_search_prep.best_params_"
      ],
      "metadata": {
        "id": "13k3sF0IpSHi"
      },
      "execution_count": null,
      "outputs": []
    }
  ]
}